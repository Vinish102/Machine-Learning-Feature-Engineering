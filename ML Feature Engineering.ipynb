{
 "cells": [
  {
   "cell_type": "markdown",
   "id": "9a13411c",
   "metadata": {},
   "source": [
    "Feature Engineering"
   ]
  },
  {
   "cell_type": "code",
   "execution_count": 1,
   "id": "1ad66ad3",
   "metadata": {},
   "outputs": [],
   "source": [
    "#Q1) What is a parameter?"
   ]
  },
  {
   "cell_type": "code",
   "execution_count": 2,
   "id": "e051b309",
   "metadata": {},
   "outputs": [
    {
     "data": {
      "text/plain": [
       "'\\nIn machine learning, a parameter is a configuration variable that is internal to the model and whose value is estimated from the data. \\nParameters are essential for defining the model’s behavior and are adjusted during the training process to minimize the error between the predicted and actual outputs.\\nKey Points about Parameters:\\n\\n    Learned from Data: Parameters are learned during the training phase. The model adjusts these values to fit the data as closely as possible.\\n\\n    Examples:\\n        Weights and Biases: In linear regression, the slope (weight) and intercept (bias) are parameters.\\n        Neural Networks: Weights and biases in the layers of a neural network are parameters.\\n\\n    Contrast with Hyperparameters:\\n        Parameters are learned from the data.\\n        Hyperparameters are set before training and control the learning process (e.g., learning rate, number of trees in a random forest).\\n\\n    Optimization: Algorithms like gradient descent are used to optimize parameters by minimizing a loss function.\\n\\n    Impact on Model: Parameters directly affect the model’s predictions and performance. \\n    Properly tuned parameters lead to better generalization on unseen data.\\n\\n'"
      ]
     },
     "execution_count": 2,
     "metadata": {},
     "output_type": "execute_result"
    }
   ],
   "source": [
    "\"\"\"\n",
    "In machine learning, a parameter is a configuration variable that is internal to the model and whose value is estimated from the data. \n",
    "Parameters are essential for defining the model’s behavior and are adjusted during the training process to minimize the error between the predicted and actual outputs.\n",
    "Key Points about Parameters:\n",
    "\n",
    "    Learned from Data: Parameters are learned during the training phase. The model adjusts these values to fit the data as closely as possible.\n",
    "\n",
    "    Examples:\n",
    "        Weights and Biases: In linear regression, the slope (weight) and intercept (bias) are parameters.\n",
    "        Neural Networks: Weights and biases in the layers of a neural network are parameters.\n",
    "\n",
    "    Contrast with Hyperparameters:\n",
    "        Parameters are learned from the data.\n",
    "        Hyperparameters are set before training and control the learning process (e.g., learning rate, number of trees in a random forest).\n",
    "\n",
    "    Optimization: Algorithms like gradient descent are used to optimize parameters by minimizing a loss function.\n",
    "\n",
    "    Impact on Model: Parameters directly affect the model’s predictions and performance. \n",
    "    Properly tuned parameters lead to better generalization on unseen data.\n",
    "\n",
    "\"\"\""
   ]
  },
  {
   "cell_type": "code",
   "execution_count": 3,
   "id": "b590f69e",
   "metadata": {},
   "outputs": [],
   "source": [
    "#Q2) What is correlation?"
   ]
  },
  {
   "cell_type": "code",
   "execution_count": 4,
   "id": "a750a184",
   "metadata": {},
   "outputs": [
    {
     "data": {
      "text/plain": [
       "'\\nCorrelation refers to a statistical measure that describes the extent to which two variables are linearly related. \\nIt indicates whether an increase or decrease in one variable corresponds to an increase or decrease in another variable.\\nKey Points about Correlation:\\n\\n    Types of Correlation:\\n        Positive Correlation: Both variables increase or decrease together. For example, height and weight often have a positive correlation.\\n        Negative Correlation: One variable increases while the other decreases. For example, the speed of a car and the time taken to reach a destination.\\n        No Correlation: No linear relationship between the variables.\\n\\n'"
      ]
     },
     "execution_count": 4,
     "metadata": {},
     "output_type": "execute_result"
    }
   ],
   "source": [
    "\"\"\"\n",
    "Correlation refers to a statistical measure that describes the extent to which two variables are linearly related. \n",
    "It indicates whether an increase or decrease in one variable corresponds to an increase or decrease in another variable.\n",
    "Key Points about Correlation:\n",
    "\n",
    "    Types of Correlation:\n",
    "        Positive Correlation: Both variables increase or decrease together. For example, height and weight often have a positive correlation.\n",
    "        Negative Correlation: One variable increases while the other decreases. For example, the speed of a car and the time taken to reach a destination.\n",
    "        No Correlation: No linear relationship between the variables.\n",
    "\n",
    "\"\"\""
   ]
  },
  {
   "cell_type": "code",
   "execution_count": 5,
   "id": "f6689950",
   "metadata": {},
   "outputs": [],
   "source": [
    "#Q3) Define Machine Learning. What are the main components in Machine Learning?"
   ]
  },
  {
   "cell_type": "code",
   "execution_count": 6,
   "id": "b88d7f5d",
   "metadata": {},
   "outputs": [
    {
     "data": {
      "text/plain": [
       "'\\nMachine learning is a subset of artificial intelligence that involves the development of algorithms and \\nstatistical models that enable computers to perform tasks without explicit instructions. \\nInstead, these models learn patterns and make decisions based on data.\\nMain Components of Machine Learning:\\n\\n    Data:\\n        Definition: The raw information used to train and evaluate models.\\n        Role: High-quality, relevant data is crucial for building effective models.\\n\\n    Features:\\n        Definition: Individual measurable properties or characteristics used as input to the model.\\n        Role: Features are used to make predictions. Feature selection and engineering are critical for model performance.\\n\\n    Model:\\n        Definition: A mathematical representation of a real-world process.\\n        Role: The model is trained on data to learn patterns and make predictions.\\n\\n    Algorithm:\\n        Definition: A procedure or formula for solving a problem.\\n        Role: Algorithms are used to train models by adjusting parameters to minimize error.\\n\\n    Training:\\n        Definition: The process of teaching a model to make predictions by exposing it to data.\\n        Role: During training, the model learns the relationship between input features and the target variable.\\n\\n    Evaluation:\\n        Definition: Assessing the model’s performance using metrics like accuracy, precision, recall, etc.\\n        Role: Evaluation helps determine how well the model generalizes to new, unseen data.\\n\\n    Hyperparameters:\\n        Definition: Configuration settings used to control the learning process.\\n        Role: Hyperparameters are set before training and can significantly impact model performance.\\n\\n    Prediction:\\n        Definition: The output generated by the model when given new input data.\\n        Role: Predictions are used to make decisions or provide insights based on the model’s learning.\\n\\n'"
      ]
     },
     "execution_count": 6,
     "metadata": {},
     "output_type": "execute_result"
    }
   ],
   "source": [
    "\"\"\"\n",
    "Machine learning is a subset of artificial intelligence that involves the development of algorithms and \n",
    "statistical models that enable computers to perform tasks without explicit instructions. \n",
    "Instead, these models learn patterns and make decisions based on data.\n",
    "Main Components of Machine Learning:\n",
    "\n",
    "    Data:\n",
    "        Definition: The raw information used to train and evaluate models.\n",
    "        Role: High-quality, relevant data is crucial for building effective models.\n",
    "\n",
    "    Features:\n",
    "        Definition: Individual measurable properties or characteristics used as input to the model.\n",
    "        Role: Features are used to make predictions. Feature selection and engineering are critical for model performance.\n",
    "\n",
    "    Model:\n",
    "        Definition: A mathematical representation of a real-world process.\n",
    "        Role: The model is trained on data to learn patterns and make predictions.\n",
    "\n",
    "    Algorithm:\n",
    "        Definition: A procedure or formula for solving a problem.\n",
    "        Role: Algorithms are used to train models by adjusting parameters to minimize error.\n",
    "\n",
    "    Training:\n",
    "        Definition: The process of teaching a model to make predictions by exposing it to data.\n",
    "        Role: During training, the model learns the relationship between input features and the target variable.\n",
    "\n",
    "    Evaluation:\n",
    "        Definition: Assessing the model’s performance using metrics like accuracy, precision, recall, etc.\n",
    "        Role: Evaluation helps determine how well the model generalizes to new, unseen data.\n",
    "\n",
    "    Hyperparameters:\n",
    "        Definition: Configuration settings used to control the learning process.\n",
    "        Role: Hyperparameters are set before training and can significantly impact model performance.\n",
    "\n",
    "    Prediction:\n",
    "        Definition: The output generated by the model when given new input data.\n",
    "        Role: Predictions are used to make decisions or provide insights based on the model’s learning.\n",
    "\n",
    "\"\"\""
   ]
  },
  {
   "cell_type": "code",
   "execution_count": 7,
   "id": "d19ffede",
   "metadata": {},
   "outputs": [],
   "source": [
    "#Q4) How does loss value help in determining whether the model is good or not?"
   ]
  },
  {
   "cell_type": "code",
   "execution_count": 8,
   "id": "86087d6f",
   "metadata": {},
   "outputs": [
    {
     "data": {
      "text/plain": [
       "'\\nThe loss value is a key metric in machine learning that quantifies how well a model’s predictions match the actual data. \\nIt plays a crucial role in evaluating and improving model performance.\\nHow Loss Value Helps:\\n\\n    Quantifies Error:\\n        The loss value measures the difference between the predicted values and the actual target values. \\n        A lower loss indicates better model performance.\\n\\n    Guides Optimization:\\n        During training, optimization algorithms (like gradient descent) use the loss value to adjust model parameters. \\n        The goal is to minimize the loss, thereby improving the model’s accuracy.\\n\\n    Model Evaluation:\\n        By comparing loss values across different models or training iterations, one can assess which model or configuration performs better.\\n\\n    Overfitting and Underfitting:\\n        A very low loss on training data but high loss on validation data may indicate overfitting, where the model learns noise instead of the underlying pattern.\\n        A high loss on both training and validation data suggests underfitting, where the model is too simple to capture the data’s complexity.\\n\\n    Choice of Loss Function:\\n        Different tasks require different loss functions. For example, mean squared error is common for regression, \\n        while cross-entropy loss is used for classification. The choice of loss function affects how the model learns.\\n\\n'"
      ]
     },
     "execution_count": 8,
     "metadata": {},
     "output_type": "execute_result"
    }
   ],
   "source": [
    "\"\"\"\n",
    "The loss value is a key metric in machine learning that quantifies how well a model’s predictions match the actual data. \n",
    "It plays a crucial role in evaluating and improving model performance.\n",
    "How Loss Value Helps:\n",
    "\n",
    "    Quantifies Error:\n",
    "        The loss value measures the difference between the predicted values and the actual target values. \n",
    "        A lower loss indicates better model performance.\n",
    "\n",
    "    Guides Optimization:\n",
    "        During training, optimization algorithms (like gradient descent) use the loss value to adjust model parameters. \n",
    "        The goal is to minimize the loss, thereby improving the model’s accuracy.\n",
    "\n",
    "    Model Evaluation:\n",
    "        By comparing loss values across different models or training iterations, one can assess which model or configuration performs better.\n",
    "\n",
    "    Overfitting and Underfitting:\n",
    "        A very low loss on training data but high loss on validation data may indicate overfitting, where the model learns noise instead of the underlying pattern.\n",
    "        A high loss on both training and validation data suggests underfitting, where the model is too simple to capture the data’s complexity.\n",
    "\n",
    "    Choice of Loss Function:\n",
    "        Different tasks require different loss functions. For example, mean squared error is common for regression, \n",
    "        while cross-entropy loss is used for classification. The choice of loss function affects how the model learns.\n",
    "\n",
    "\"\"\""
   ]
  },
  {
   "cell_type": "code",
   "execution_count": 9,
   "id": "fbdcd812",
   "metadata": {},
   "outputs": [],
   "source": [
    "#Q5) What are continuous and categorical variables?"
   ]
  },
  {
   "cell_type": "code",
   "execution_count": 10,
   "id": "38fa3a43",
   "metadata": {},
   "outputs": [
    {
     "data": {
      "text/plain": [
       "'\\nContinuous Variables\\n\\n    Definition: Continuous variables are numerical variables that can take an infinite number of values within a given range. \\n    They are often measurements.\\n    Characteristics:\\n        Can be fractional or decimal.\\n        Represented on a continuous scale.\\n    Examples:\\n        Height, weight, temperature, and time.\\n    Use in Machine Learning:\\n        Often used in regression models.\\n        Require normalization or standardization for some algorithms.\\n\\nCategorical Variables\\n\\n    Definition: Categorical variables represent discrete categories or groups. They have a finite set of possible values.\\n    Characteristics:\\n        Can be nominal (no inherent order) or ordinal (ordered categories).\\n        Represented as labels or categories.\\n    Examples:\\n        Nominal: Gender, color, type of animal.\\n        Ordinal: Education level, satisfaction rating.\\n    Use in Machine Learning:\\n        Often used in classification models.\\n        Require encoding (e.g., one-hot encoding) to be used in algorithms that require numerical input.\\n\\n'"
      ]
     },
     "execution_count": 10,
     "metadata": {},
     "output_type": "execute_result"
    }
   ],
   "source": [
    "\"\"\"\n",
    "Continuous Variables\n",
    "\n",
    "    Definition: Continuous variables are numerical variables that can take an infinite number of values within a given range. \n",
    "    They are often measurements.\n",
    "    Characteristics:\n",
    "        Can be fractional or decimal.\n",
    "        Represented on a continuous scale.\n",
    "    Examples:\n",
    "        Height, weight, temperature, and time.\n",
    "    Use in Machine Learning:\n",
    "        Often used in regression models.\n",
    "        Require normalization or standardization for some algorithms.\n",
    "\n",
    "Categorical Variables\n",
    "\n",
    "    Definition: Categorical variables represent discrete categories or groups. They have a finite set of possible values.\n",
    "    Characteristics:\n",
    "        Can be nominal (no inherent order) or ordinal (ordered categories).\n",
    "        Represented as labels or categories.\n",
    "    Examples:\n",
    "        Nominal: Gender, color, type of animal.\n",
    "        Ordinal: Education level, satisfaction rating.\n",
    "    Use in Machine Learning:\n",
    "        Often used in classification models.\n",
    "        Require encoding (e.g., one-hot encoding) to be used in algorithms that require numerical input.\n",
    "\n",
    "\"\"\""
   ]
  },
  {
   "cell_type": "code",
   "execution_count": 11,
   "id": "c289145d",
   "metadata": {},
   "outputs": [],
   "source": [
    "#Q6) How do we handle categorical variables in Machine Learning? What are the common techniques ?"
   ]
  },
  {
   "cell_type": "code",
   "execution_count": 12,
   "id": "bd0b7ff2",
   "metadata": {},
   "outputs": [
    {
     "data": {
      "text/plain": [
       "'\\nCommon Techniques:\\n\\n    Label Encoding:\\n        Description: Converts each category into a unique integer.\\n        Use Case: Suitable for ordinal variables where the order matters.\\n        Limitation: Can mislead models into thinking there’s a numerical relationship between categories.\\n\\n'"
      ]
     },
     "execution_count": 12,
     "metadata": {},
     "output_type": "execute_result"
    }
   ],
   "source": [
    "\"\"\"\n",
    "Common Techniques:\n",
    "\n",
    "    Label Encoding:\n",
    "        Description: Converts each category into a unique integer.\n",
    "        Use Case: Suitable for ordinal variables where the order matters.\n",
    "        Limitation: Can mislead models into thinking there’s a numerical relationship between categories.\n",
    "\n",
    "\"\"\"\n",
    "#from sklearn.preprocessing import LabelEncoder\n",
    "\n",
    "#le = LabelEncoder()\n",
    "#data['category'] = le.fit_transform(data['category'])\n"
   ]
  },
  {
   "cell_type": "code",
   "execution_count": 13,
   "id": "b477cbd4",
   "metadata": {},
   "outputs": [
    {
     "data": {
      "text/plain": [
       "'\\n\\nOne-Hot Encoding:\\n\\n    Description: Converts categories into binary vectors. Each category becomes a new column with 0s and 1s indicating presence.\\n    Use Case: Suitable for nominal variables where no order exists.\\n    Limitation: Can lead to high dimensionality with many categories.\\n\\n'"
      ]
     },
     "execution_count": 13,
     "metadata": {},
     "output_type": "execute_result"
    }
   ],
   "source": [
    "\"\"\"\n",
    "\n",
    "One-Hot Encoding:\n",
    "\n",
    "    Description: Converts categories into binary vectors. Each category becomes a new column with 0s and 1s indicating presence.\n",
    "    Use Case: Suitable for nominal variables where no order exists.\n",
    "    Limitation: Can lead to high dimensionality with many categories.\n",
    "\n",
    "\"\"\"\n",
    "#import pandas as pd\n",
    "#data = pd.get_dummies(data, columns=['category'])\n"
   ]
  },
  {
   "cell_type": "code",
   "execution_count": 14,
   "id": "9b7d47e5",
   "metadata": {},
   "outputs": [
    {
     "data": {
      "text/plain": [
       "'\\nBinary Encoding:\\n\\n    Description: Combines label encoding and one-hot encoding. Converts categories to binary and splits digits into columns.\\n    Use Case: Useful for reducing dimensionality compared to one-hot encoding.\\n\\n'"
      ]
     },
     "execution_count": 14,
     "metadata": {},
     "output_type": "execute_result"
    }
   ],
   "source": [
    "\"\"\"\n",
    "Binary Encoding:\n",
    "\n",
    "    Description: Combines label encoding and one-hot encoding. Converts categories to binary and splits digits into columns.\n",
    "    Use Case: Useful for reducing dimensionality compared to one-hot encoding.\n",
    "\n",
    "\"\"\"\n",
    "#from category_encoders import BinaryEncoder\n",
    "\n",
    "#encoder = BinaryEncoder(cols=['category'])\n",
    "#data = encoder.fit_transform(data)\n"
   ]
  },
  {
   "cell_type": "code",
   "execution_count": 15,
   "id": "8c708f3a",
   "metadata": {},
   "outputs": [
    {
     "data": {
      "text/plain": [
       "'\\n\\nTarget Encoding:\\n\\n    Description: Replaces categories with the mean of the target variable for each category.\\n    Use Case: Useful for high-cardinality categorical variables.\\n    Limitation: Can lead to overfitting if not handled carefully.\\n\\n'"
      ]
     },
     "execution_count": 15,
     "metadata": {},
     "output_type": "execute_result"
    }
   ],
   "source": [
    "\"\"\"\n",
    "\n",
    "Target Encoding:\n",
    "\n",
    "    Description: Replaces categories with the mean of the target variable for each category.\n",
    "    Use Case: Useful for high-cardinality categorical variables.\n",
    "    Limitation: Can lead to overfitting if not handled carefully.\n",
    "\n",
    "\"\"\"\n",
    "#data['category_encoded'] = data.groupby('category')['target'].transform('mean')\n"
   ]
  },
  {
   "cell_type": "code",
   "execution_count": 16,
   "id": "3ef9c97f",
   "metadata": {},
   "outputs": [],
   "source": [
    "#Q7) What do you mean by training and testing a dataset?"
   ]
  },
  {
   "cell_type": "code",
   "execution_count": 17,
   "id": "9f00a7b6",
   "metadata": {},
   "outputs": [
    {
     "data": {
      "text/plain": [
       "'\\nIn machine learning, training and testing datasets are used to build and evaluate models. Here’s what each term means:\\nTraining Dataset\\n\\n    Purpose: Used to train the model. The model learns patterns, relationships, and features from this data.\\n    Process: During training, the model adjusts its parameters to minimize the error between its predictions and the actual outcomes.\\n    Size: Typically, the largest portion of the data is allocated for training to ensure the model learns effectively.\\n\\nTesting Dataset\\n\\n    Purpose: Used to evaluate the model’s performance. It assesses how well the model generalizes to new, unseen data.\\n    Process: After training, the model makes predictions on the testing dataset, \\n    and its performance is measured using metrics like accuracy, precision, recall, etc.\\n    Size: A smaller portion of the data is reserved for testing to provide an unbiased evaluation of the model.\\n\\nImportance of Splitting Data\\n\\n    Generalization: Ensures the model performs well on new data, not just the data it was trained on.\\n    Avoid Overfitting: Helps detect overfitting, where the model performs well on training data but poorly on unseen data.\\n\\n'"
      ]
     },
     "execution_count": 17,
     "metadata": {},
     "output_type": "execute_result"
    }
   ],
   "source": [
    "\"\"\"\n",
    "In machine learning, training and testing datasets are used to build and evaluate models. Here’s what each term means:\n",
    "Training Dataset\n",
    "\n",
    "    Purpose: Used to train the model. The model learns patterns, relationships, and features from this data.\n",
    "    Process: During training, the model adjusts its parameters to minimize the error between its predictions and the actual outcomes.\n",
    "    Size: Typically, the largest portion of the data is allocated for training to ensure the model learns effectively.\n",
    "\n",
    "Testing Dataset\n",
    "\n",
    "    Purpose: Used to evaluate the model’s performance. It assesses how well the model generalizes to new, unseen data.\n",
    "    Process: After training, the model makes predictions on the testing dataset, \n",
    "    and its performance is measured using metrics like accuracy, precision, recall, etc.\n",
    "    Size: A smaller portion of the data is reserved for testing to provide an unbiased evaluation of the model.\n",
    "\n",
    "Importance of Splitting Data\n",
    "\n",
    "    Generalization: Ensures the model performs well on new data, not just the data it was trained on.\n",
    "    Avoid Overfitting: Helps detect overfitting, where the model performs well on training data but poorly on unseen data.\n",
    "\n",
    "\"\"\""
   ]
  },
  {
   "cell_type": "code",
   "execution_count": 18,
   "id": "1c3180df",
   "metadata": {},
   "outputs": [],
   "source": [
    "#Q8) What is sklearn.preprocessing?"
   ]
  },
  {
   "cell_type": "code",
   "execution_count": 19,
   "id": "fff2267e",
   "metadata": {},
   "outputs": [
    {
     "name": "stdout",
     "output_type": "stream",
     "text": [
      "[[-1.18321596 -1.18321596]\n",
      " [-0.50709255 -0.50709255]\n",
      " [ 0.16903085  0.16903085]\n",
      " [ 1.52127766  1.52127766]]\n"
     ]
    }
   ],
   "source": [
    "\"\"\"\n",
    "sklearn.preprocessing is a module in the Scikit-learn library that provides various utilities and functions for preprocessing data before it is used in machine learning models. Preprocessing is a crucial step in the machine learning pipeline, as it helps to transform raw data into a format that is more suitable for modeling.\n",
    "Key Features of sklearn.preprocessing:\n",
    "\n",
    "    Scaling and Normalization:\n",
    "        StandardScaler: Standardizes features by removing the mean and scaling to unit variance.\n",
    "        MinMaxScaler: Scales features to a specified range, typically [0, 1].\n",
    "        Normalizer: Scales individual samples to have unit norm.\n",
    "\n",
    "    Encoding Categorical Features:\n",
    "        LabelEncoder: Encodes target labels with values between 0 and n_classes-1.\n",
    "        OneHotEncoder: Converts categorical variables into a one-hot numeric array.\n",
    "\n",
    "    Binarization:\n",
    "        Binarizer: Converts numerical values into binary values based on a threshold.\n",
    "\n",
    "    Polynomial Features:\n",
    "        PolynomialFeatures: Generates polynomial and interaction features.\n",
    "\n",
    "    Imputation:\n",
    "        SimpleImputer: Replaces missing values using a specified strategy (e.g., mean, median).\n",
    "\n",
    "    Discretization:\n",
    "        KBinsDiscretizer: Discretizes continuous features into k bins.\n",
    "\n",
    "\"\"\"\n",
    "#Example\n",
    "from sklearn.preprocessing import StandardScaler\n",
    "\n",
    "# Sample data\n",
    "data = [[-1, 2], [-0.5, 6], [0, 10], [1, 18]]\n",
    "\n",
    "# Initialize the scaler\n",
    "scaler = StandardScaler()\n",
    "\n",
    "# Fit and transform the data\n",
    "scaled_data = scaler.fit_transform(data)\n",
    "print(scaled_data)\n"
   ]
  },
  {
   "cell_type": "code",
   "execution_count": 20,
   "id": "64d38958",
   "metadata": {},
   "outputs": [],
   "source": [
    "#Q9) What is a Test set?"
   ]
  },
  {
   "cell_type": "code",
   "execution_count": 21,
   "id": "6a82044a",
   "metadata": {},
   "outputs": [
    {
     "data": {
      "text/plain": [
       "'\\nA test set is a subset of a dataset used to evaluate the performance of a machine learning model after it has been trained. \\nIt is crucial for assessing how well the model generalizes to new, unseen data.\\nKey Characteristics of a Test Set:\\n\\n    Purpose:\\n        To provide an unbiased evaluation of a model’s performance.\\n        To simulate how the model will perform in real-world scenarios on new data.\\n\\n    Separation from Training Data:\\n        The test set is kept separate from the training data to ensure that the model’s evaluation is not influenced by the data it has already seen.\\n\\n    Evaluation Metrics:\\n        Common metrics used to evaluate the model on the test set include accuracy, precision, recall, F1-score, and mean squared error, \\n        depending on the type of problem (classification or regression).\\n\\n    Size:\\n        Typically, the test set comprises 20-30% of the total dataset, though this can vary based on the dataset size and specific requirements.\\n\\n    Role in Model Validation:\\n        The test set is used only once, after the model has been trained and validated, to provide a final assessment of its performance.\\n\\n'"
      ]
     },
     "execution_count": 21,
     "metadata": {},
     "output_type": "execute_result"
    }
   ],
   "source": [
    "\"\"\"\n",
    "A test set is a subset of a dataset used to evaluate the performance of a machine learning model after it has been trained. \n",
    "It is crucial for assessing how well the model generalizes to new, unseen data.\n",
    "Key Characteristics of a Test Set:\n",
    "\n",
    "    Purpose:\n",
    "        To provide an unbiased evaluation of a model’s performance.\n",
    "        To simulate how the model will perform in real-world scenarios on new data.\n",
    "\n",
    "    Separation from Training Data:\n",
    "        The test set is kept separate from the training data to ensure that the model’s evaluation is not influenced by the data it has already seen.\n",
    "\n",
    "    Evaluation Metrics:\n",
    "        Common metrics used to evaluate the model on the test set include accuracy, precision, recall, F1-score, and mean squared error, \n",
    "        depending on the type of problem (classification or regression).\n",
    "\n",
    "    Size:\n",
    "        Typically, the test set comprises 20-30% of the total dataset, though this can vary based on the dataset size and specific requirements.\n",
    "\n",
    "    Role in Model Validation:\n",
    "        The test set is used only once, after the model has been trained and validated, to provide a final assessment of its performance.\n",
    "\n",
    "\"\"\""
   ]
  },
  {
   "cell_type": "code",
   "execution_count": 22,
   "id": "f6ba13e5",
   "metadata": {},
   "outputs": [],
   "source": [
    "#Q10) How do we split data for model fitting (training and testing) in Python?How do you approach a Machine Learning problem?"
   ]
  },
  {
   "cell_type": "code",
   "execution_count": 23,
   "id": "323bff2d",
   "metadata": {},
   "outputs": [
    {
     "name": "stdout",
     "output_type": "stream",
     "text": [
      "X_train: [[ 9 10]\n",
      " [ 5  6]\n",
      " [ 1  2]\n",
      " [ 7  8]]\n",
      "X_test: [[3 4]]\n",
      "y_train: [0 0 0 1]\n",
      "y_test: [1]\n"
     ]
    }
   ],
   "source": [
    "\"\"\"\n",
    "In Python, data can be split into training and testing sets using the train_test_split function from the Scikit-learn library. \n",
    "This function randomly divides the dataset into two parts, \n",
    "ensuring that the model can be trained on one part and evaluated on the other.\n",
    "\"\"\"\n",
    "#Example\n",
    "from sklearn.model_selection import train_test_split\n",
    "import numpy as np\n",
    "\n",
    "# Sample data\n",
    "X = np.array([[1, 2], [3, 4], [5, 6], [7, 8], [9, 10]])\n",
    "y = np.array([0, 1, 0, 1, 0])\n",
    "\n",
    "# Split data into training and testing sets\n",
    "X_train, X_test, y_train, y_test = train_test_split(X, y, test_size=0.2, random_state=42)\n",
    "\n",
    "print(\"X_train:\", X_train)\n",
    "print(\"X_test:\", X_test)\n",
    "print(\"y_train:\", y_train)\n",
    "print(\"y_test:\", y_test)\n"
   ]
  },
  {
   "cell_type": "code",
   "execution_count": 24,
   "id": "8c3b3d19",
   "metadata": {},
   "outputs": [
    {
     "data": {
      "text/plain": [
       "'\\nParameters:\\n\\n    test_size: Proportion of the dataset to include in the test split (e.g., 0.2 for 20%).\\n    random_state: An integer seed for the random number generator to ensure reproducibility.\\n    train_size: Alternatively, specify the proportion for the training set.\\n\\n'"
      ]
     },
     "execution_count": 24,
     "metadata": {},
     "output_type": "execute_result"
    }
   ],
   "source": [
    "\"\"\"\n",
    "Parameters:\n",
    "\n",
    "    test_size: Proportion of the dataset to include in the test split (e.g., 0.2 for 20%).\n",
    "    random_state: An integer seed for the random number generator to ensure reproducibility.\n",
    "    train_size: Alternatively, specify the proportion for the training set.\n",
    "\n",
    "\"\"\""
   ]
  },
  {
   "cell_type": "code",
   "execution_count": 25,
   "id": "0f6eef59",
   "metadata": {},
   "outputs": [
    {
     "data": {
      "text/plain": [
       "'\\nApproaching a machine learning problem involves several structured steps to ensure a thorough understanding and \\neffective solution. Here’s a typical approach:\\n\\n    Define the Problem:\\n        Clearly understand the problem and its requirements.\\n        Determine the type of problem (e.g., classification, regression, clustering).\\n\\n    Collect and Explore Data:\\n        Gather relevant data from various sources.\\n        Perform exploratory data analysis (EDA) to understand data distribution, patterns, and anomalies.\\n\\n    Preprocess Data:\\n        Handle missing values, outliers, and duplicates.\\n        Encode categorical variables and scale numerical features.\\n        Split data into training and testing sets.\\n\\n    Feature Engineering:\\n        Select relevant features that contribute to the model’s performance.\\n        Create new features through transformations or combinations of existing ones.\\n\\n    Select a Model:\\n        Choose appropriate algorithms based on the problem type and data characteristics.\\n        Consider models that are known to perform well for similar problems.\\n\\n    Train the Model:\\n        Use the training data to fit the model.\\n        Optimize model parameters and hyperparameters.\\n\\n    Evaluate the Model:\\n        Use the test set to assess model performance.\\n        Apply evaluation metrics relevant to the problem (e.g., accuracy, precision, recall, RMSE).\\n\\n    Tune and Improve:\\n        Fine-tune hyperparameters using techniques like grid search or random search.\\n        Experiment with different models and ensemble methods.\\n\\n    Deploy the Model:\\n        Integrate the model into a production environment.\\n        Monitor its performance and update as needed.\\n\\n    Communicate Results:\\n        Present findings and insights to stakeholders.\\n        Provide actionable recommendations based on the model’s predictions.\\n\\n'"
      ]
     },
     "execution_count": 25,
     "metadata": {},
     "output_type": "execute_result"
    }
   ],
   "source": [
    "\"\"\"\n",
    "Approaching a machine learning problem involves several structured steps to ensure a thorough understanding and \n",
    "effective solution. Here’s a typical approach:\n",
    "\n",
    "    Define the Problem:\n",
    "        Clearly understand the problem and its requirements.\n",
    "        Determine the type of problem (e.g., classification, regression, clustering).\n",
    "\n",
    "    Collect and Explore Data:\n",
    "        Gather relevant data from various sources.\n",
    "        Perform exploratory data analysis (EDA) to understand data distribution, patterns, and anomalies.\n",
    "\n",
    "    Preprocess Data:\n",
    "        Handle missing values, outliers, and duplicates.\n",
    "        Encode categorical variables and scale numerical features.\n",
    "        Split data into training and testing sets.\n",
    "\n",
    "    Feature Engineering:\n",
    "        Select relevant features that contribute to the model’s performance.\n",
    "        Create new features through transformations or combinations of existing ones.\n",
    "\n",
    "    Select a Model:\n",
    "        Choose appropriate algorithms based on the problem type and data characteristics.\n",
    "        Consider models that are known to perform well for similar problems.\n",
    "\n",
    "    Train the Model:\n",
    "        Use the training data to fit the model.\n",
    "        Optimize model parameters and hyperparameters.\n",
    "\n",
    "    Evaluate the Model:\n",
    "        Use the test set to assess model performance.\n",
    "        Apply evaluation metrics relevant to the problem (e.g., accuracy, precision, recall, RMSE).\n",
    "\n",
    "    Tune and Improve:\n",
    "        Fine-tune hyperparameters using techniques like grid search or random search.\n",
    "        Experiment with different models and ensemble methods.\n",
    "\n",
    "    Deploy the Model:\n",
    "        Integrate the model into a production environment.\n",
    "        Monitor its performance and update as needed.\n",
    "\n",
    "    Communicate Results:\n",
    "        Present findings and insights to stakeholders.\n",
    "        Provide actionable recommendations based on the model’s predictions.\n",
    "\n",
    "\"\"\""
   ]
  },
  {
   "cell_type": "code",
   "execution_count": 26,
   "id": "3cd76bc5",
   "metadata": {},
   "outputs": [],
   "source": [
    "#Q11) Why do we have to perform EDA before fitting a model to the data?"
   ]
  },
  {
   "cell_type": "code",
   "execution_count": 27,
   "id": "515fc9af",
   "metadata": {},
   "outputs": [
    {
     "data": {
      "text/plain": [
       "'\\nExploratory Data Analysis (EDA) is a crucial step before fitting a model to the data \\nbecause it helps in understanding the dataset’s underlying structure and characteristics. \\nHere are the reasons why EDA is important:\\n\\n    Understand Data Distribution:\\n        EDA helps in visualizing the distribution of data, identifying patterns, and understanding the spread and central tendency of features.\\n\\n    Identify Outliers and Anomalies:\\n        Detecting outliers and anomalies is essential as they can skew the results and affect model performance.\\n\\n    Handle Missing Values:\\n        EDA reveals missing data, allowing for appropriate imputation or removal strategies to be applied.\\n\\n    Feature Relationships:\\n        Analyzing correlations and relationships between features can inform feature selection and engineering, \\n        improving model accuracy.\\n\\n    Detect Data Quality Issues:\\n        EDA helps identify data quality issues such as duplicates, incorrect data types, or inconsistent entries.\\n\\n    Guide Model Selection:\\n        Understanding the data’s characteristics can guide the choice of algorithms and preprocessing techniques.\\n\\n    Hypothesis Generation:\\n        EDA allows for the generation of hypotheses about the data, which can be tested and validated through modeling.\\n\\n    Reduce Dimensionality:\\n        By understanding feature importance and relationships, EDA can help in reducing dimensionality, \\n        leading to simpler and more efficient models.\\n\\n'"
      ]
     },
     "execution_count": 27,
     "metadata": {},
     "output_type": "execute_result"
    }
   ],
   "source": [
    "\"\"\"\n",
    "Exploratory Data Analysis (EDA) is a crucial step before fitting a model to the data \n",
    "because it helps in understanding the dataset’s underlying structure and characteristics. \n",
    "Here are the reasons why EDA is important:\n",
    "\n",
    "    Understand Data Distribution:\n",
    "        EDA helps in visualizing the distribution of data, identifying patterns, and understanding the spread and central tendency of features.\n",
    "\n",
    "    Identify Outliers and Anomalies:\n",
    "        Detecting outliers and anomalies is essential as they can skew the results and affect model performance.\n",
    "\n",
    "    Handle Missing Values:\n",
    "        EDA reveals missing data, allowing for appropriate imputation or removal strategies to be applied.\n",
    "\n",
    "    Feature Relationships:\n",
    "        Analyzing correlations and relationships between features can inform feature selection and engineering, \n",
    "        improving model accuracy.\n",
    "\n",
    "    Detect Data Quality Issues:\n",
    "        EDA helps identify data quality issues such as duplicates, incorrect data types, or inconsistent entries.\n",
    "\n",
    "    Guide Model Selection:\n",
    "        Understanding the data’s characteristics can guide the choice of algorithms and preprocessing techniques.\n",
    "\n",
    "    Hypothesis Generation:\n",
    "        EDA allows for the generation of hypotheses about the data, which can be tested and validated through modeling.\n",
    "\n",
    "    Reduce Dimensionality:\n",
    "        By understanding feature importance and relationships, EDA can help in reducing dimensionality, \n",
    "        leading to simpler and more efficient models.\n",
    "\n",
    "\"\"\""
   ]
  },
  {
   "cell_type": "code",
   "execution_count": 28,
   "id": "75d09c9b",
   "metadata": {},
   "outputs": [],
   "source": [
    "#Q14) How can you find correlation between variables in Python?"
   ]
  },
  {
   "cell_type": "code",
   "execution_count": 29,
   "id": "0ed22388",
   "metadata": {},
   "outputs": [
    {
     "name": "stdout",
     "output_type": "stream",
     "text": [
      "     A    B    C\n",
      "A  1.0 -1.0  0.8\n",
      "B -1.0  1.0 -0.8\n",
      "C  0.8 -0.8  1.0\n"
     ]
    }
   ],
   "source": [
    "\"\"\"\n",
    "In Python, correlation between variables can be found using several methods, \n",
    "primarily through the use of libraries like Pandas and NumPy. Here are common approaches:\n",
    "Using Pandas\n",
    "\n",
    "    corr() Method:\n",
    "        The corr() method in Pandas computes the pairwise correlation of columns in a DataFrame.\n",
    "\n",
    "\"\"\"\n",
    "import pandas as pd\n",
    "\n",
    "# Sample DataFrame\n",
    "data = {'A': [1, 2, 3, 4], 'B': [4, 3, 2, 1], 'C': [1, 3, 2, 4]}\n",
    "df = pd.DataFrame(data)\n",
    "\n",
    "# Compute correlation matrix\n",
    "correlation_matrix = df.corr()\n",
    "print(correlation_matrix)\n"
   ]
  },
  {
   "cell_type": "code",
   "execution_count": 30,
   "id": "9b8e9417",
   "metadata": {},
   "outputs": [
    {
     "data": {
      "image/png": "[encoded data removed]",
      "text/plain": [
       "<Figure size 640x480 with 2 Axes>"
      ]
     },
     "metadata": {},
     "output_type": "display_data"
    }
   ],
   "source": [
    "#Visualizing Correlation with Heatmap:\n",
    "#Use Seaborn to visualize the correlation matrix.\n",
    "import seaborn as sns\n",
    "import matplotlib.pyplot as plt\n",
    "\n",
    "sns.heatmap(correlation_matrix, annot=True, cmap='coolwarm')\n",
    "plt.show()\n"
   ]
  },
  {
   "cell_type": "code",
   "execution_count": 31,
   "id": "c79061a0",
   "metadata": {},
   "outputs": [],
   "source": [
    "#Q15) What is causation? Explain difference between correlation and causation with an example"
   ]
  },
  {
   "cell_type": "code",
   "execution_count": 32,
   "id": "bff2d9c8",
   "metadata": {},
   "outputs": [
    {
     "data": {
      "text/plain": [
       "'\\nCausation refers to a relationship where one event (the cause) directly affects another event (the effect). \\nIn other words, a change in one variable is responsible for a change in another variable.\\n    Causation:\\n        Definition: A relationship where one variable directly affects another. It implies a cause-and-effect relationship.\\n        Example: Smoking and lung cancer have a causal relationship, as smoking increases the risk of developing lung cancer.\\n\\nKey Points:\\n\\n    Directionality: Causation implies direction (cause leads to effect), while correlation does not.\\n    Confounding Variables: Correlation can be influenced by a third variable that affects both correlated variables, leading to a spurious relationship.\\n    Establishing Causation: Requires controlled experiments or additional evidence beyond statistical correlation to demonstrate a direct cause-and-effect relationship.\\n\\n'"
      ]
     },
     "execution_count": 32,
     "metadata": {},
     "output_type": "execute_result"
    }
   ],
   "source": [
    "\"\"\"\n",
    "Causation refers to a relationship where one event (the cause) directly affects another event (the effect). \n",
    "In other words, a change in one variable is responsible for a change in another variable.\n",
    "    Causation:\n",
    "        Definition: A relationship where one variable directly affects another. It implies a cause-and-effect relationship.\n",
    "        Example: Smoking and lung cancer have a causal relationship, as smoking increases the risk of developing lung cancer.\n",
    "\n",
    "Key Points:\n",
    "\n",
    "    Directionality: Causation implies direction (cause leads to effect), while correlation does not.\n",
    "    Confounding Variables: Correlation can be influenced by a third variable that affects both correlated variables, leading to a spurious relationship.\n",
    "    Establishing Causation: Requires controlled experiments or additional evidence beyond statistical correlation to demonstrate a direct cause-and-effect relationship.\n",
    "\n",
    "\"\"\""
   ]
  },
  {
   "cell_type": "code",
   "execution_count": 33,
   "id": "f7579d5f",
   "metadata": {},
   "outputs": [],
   "source": [
    "#Q16) What is an Optimizer? What are different types of optimizers? Explain each with an example."
   ]
  },
  {
   "cell_type": "code",
   "execution_count": 34,
   "id": "33076cbc",
   "metadata": {},
   "outputs": [
    {
     "data": {
      "text/plain": [
       "'\\nMini-batch Gradient Descent:\\n\\n    Description: Combines the benefits of both batch and stochastic gradient descent by updating parameters using a small batch of data points.\\n    Example: Commonly used in deep learning frameworks like TensorFlow and PyTorch.\\n\\n\\n'"
      ]
     },
     "execution_count": 34,
     "metadata": {},
     "output_type": "execute_result"
    }
   ],
   "source": [
    "\"\"\"\n",
    "An optimizer is an algorithm or method used to adjust the parameters of a model to minimize the loss function. \n",
    "Optimizers play a crucial role in training models by finding the optimal set of parameters that result in the best performance.\n",
    "\"\"\"\n",
    "\"\"\"\n",
    "Types of Optimizers:\n",
    "\n",
    "    Gradient Descent:\n",
    "        Description: The most basic optimization algorithm that updates parameters by moving in the direction of the negative gradient of the loss function.\n",
    "        Example: In linear regression, gradient descent adjusts weights to minimize the mean squared error.\n",
    "\n",
    "\"\"\"\n",
    "# Pseudocode for gradient descent\n",
    "#weight = weight - learning_rate * gradient\n",
    "\n",
    "\"\"\"\n",
    "Stochastic Gradient Descent (SGD):\n",
    "\n",
    "    Description: A variant of gradient descent that updates parameters using a single data point (or a small batch) at a time, which can lead to faster convergence.\n",
    "    Example: Used in training neural networks where data is too large to fit in memory.\n",
    "\n",
    "\"\"\"\n",
    "# Pseudocode for SGD\n",
    "#for each data point:\n",
    " #   weight = weight - learning_rate * gradient(data_point)\n",
    "\n",
    "\"\"\"\n",
    "Mini-batch Gradient Descent:\n",
    "\n",
    "    Description: Combines the benefits of both batch and stochastic gradient descent by updating parameters using a small batch of data points.\n",
    "    Example: Commonly used in deep learning frameworks like TensorFlow and PyTorch.\n",
    "\n",
    "\n",
    "\"\"\"\n",
    "\n"
   ]
  },
  {
   "cell_type": "code",
   "execution_count": 35,
   "id": "6d273e6f",
   "metadata": {},
   "outputs": [
    {
     "data": {
      "text/plain": [
       "'\\nAdam (Adaptive Moment Estimation):\\n\\n    Description: Combines the ideas of momentum and RMSProp, adapting the learning rate for each parameter.\\n    Example: Widely used in training deep learning models due to its efficiency and effectiveness.\\n\\n# Pseudocode for Adam\\nm = beta1 * m + (1 - beta1) * gradient\\nv = beta2 * v + (1 - beta2) * gradient^2\\nweight = weight - learning_rate * m / (sqrt(v) + epsilon)\\n\\n'"
      ]
     },
     "execution_count": 35,
     "metadata": {},
     "output_type": "execute_result"
    }
   ],
   "source": [
    "\"\"\"\n",
    "Momentum:\n",
    "\n",
    "    Description: An extension of SGD that accumulates a velocity vector in the direction of the gradient to accelerate convergence.\n",
    "    Example: Helps in navigating ravines in the loss surface.\n",
    "\n",
    "# Pseudocode for momentum\n",
    "velocity = momentum * velocity - learning_rate * gradient\n",
    "weight = weight + velocity\n",
    "\n",
    "\"\"\"\n",
    "\n",
    "\"\"\"\n",
    "Adam (Adaptive Moment Estimation):\n",
    "\n",
    "    Description: Combines the ideas of momentum and RMSProp, adapting the learning rate for each parameter.\n",
    "    Example: Widely used in training deep learning models due to its efficiency and effectiveness.\n",
    "\n",
    "# Pseudocode for Adam\n",
    "m = beta1 * m + (1 - beta1) * gradient\n",
    "v = beta2 * v + (1 - beta2) * gradient^2\n",
    "weight = weight - learning_rate * m / (sqrt(v) + epsilon)\n",
    "\n",
    "\"\"\""
   ]
  },
  {
   "cell_type": "code",
   "execution_count": 36,
   "id": "0eda0922",
   "metadata": {},
   "outputs": [],
   "source": [
    "#Q17) What is sklearn.linear_model ?"
   ]
  },
  {
   "cell_type": "code",
   "execution_count": 37,
   "id": "86c25acf",
   "metadata": {},
   "outputs": [
    {
     "data": {
      "text/plain": [
       "'\\nsklearn.linear_model:\\n\\n    Linear Regression:\\n        Description: A basic linear approach for modeling the relationship between a dependent variable and one or more independent variables.\\n        Usage: Suitable for predicting continuous outcomes.\\n\\n    from sklearn.linear_model import LinearRegression\\n\\n    model = LinearRegression()\\n    model.fit(X_train, y_train)\\n    predictions = model.predict(X_test)\\n\\nLogistic Regression:\\n\\n    Description: A linear model for binary classification that uses the logistic function to model the probability of class membership.\\n    Usage: Suitable for binary and multiclass classification tasks.\\n\\nfrom sklearn.linear_model import LogisticRegression\\n\\nmodel = LogisticRegression()\\nmodel.fit(X_train, y_train)\\npredictions = model.predict(X_test)\\n\\nRidge Regression:\\n\\n    Description: A linear regression model with L2 regularization to prevent overfitting by penalizing large coefficients.\\n    Usage: Useful when multicollinearity is present.\\n\\nfrom sklearn.linear_model import Ridge\\n\\nmodel = Ridge(alpha=1.0)\\nmodel.fit(X_train, y_train)\\n\\nLasso Regression:\\n\\n    Description: A linear regression model with L1 regularization that can shrink some coefficients to zero, effectively performing feature selection.\\n    Usage: Useful for sparse models with many features.\\n\\nfrom sklearn.linear_model import Lasso\\n\\nmodel = Lasso(alpha=0.1)\\nmodel.fit(X_train, y_train)\\n\\nElastic Net:\\n\\n    Description: Combines L1 and L2 regularization, balancing between Ridge and Lasso.\\n    Usage: Useful when multiple features are correlated.\\n\\nfrom sklearn.linear_model import ElasticNet\\n\\nmodel = ElasticNet(alpha=0.1, l1_ratio=0.5)\\nmodel.fit(X_train, y_train)\\n\\nPerceptron:\\n\\n    Description: A simple linear binary classifier.\\n    Usage: Suitable for binary classification tasks.\\n\\nfrom sklearn.linear_model import Perceptron\\n\\nmodel = Perceptron()\\nmodel.fit(X_train, y_train)\\n\\n'"
      ]
     },
     "execution_count": 37,
     "metadata": {},
     "output_type": "execute_result"
    }
   ],
   "source": [
    "\"\"\"\n",
    "sklearn.linear_model:\n",
    "\n",
    "    Linear Regression:\n",
    "        Description: A basic linear approach for modeling the relationship between a dependent variable and one or more independent variables.\n",
    "        Usage: Suitable for predicting continuous outcomes.\n",
    "\n",
    "    from sklearn.linear_model import LinearRegression\n",
    "\n",
    "    model = LinearRegression()\n",
    "    model.fit(X_train, y_train)\n",
    "    predictions = model.predict(X_test)\n",
    "\n",
    "Logistic Regression:\n",
    "\n",
    "    Description: A linear model for binary classification that uses the logistic function to model the probability of class membership.\n",
    "    Usage: Suitable for binary and multiclass classification tasks.\n",
    "\n",
    "from sklearn.linear_model import LogisticRegression\n",
    "\n",
    "model = LogisticRegression()\n",
    "model.fit(X_train, y_train)\n",
    "predictions = model.predict(X_test)\n",
    "\n",
    "Ridge Regression:\n",
    "\n",
    "    Description: A linear regression model with L2 regularization to prevent overfitting by penalizing large coefficients.\n",
    "    Usage: Useful when multicollinearity is present.\n",
    "\n",
    "from sklearn.linear_model import Ridge\n",
    "\n",
    "model = Ridge(alpha=1.0)\n",
    "model.fit(X_train, y_train)\n",
    "\n",
    "Lasso Regression:\n",
    "\n",
    "    Description: A linear regression model with L1 regularization that can shrink some coefficients to zero, effectively performing feature selection.\n",
    "    Usage: Useful for sparse models with many features.\n",
    "\n",
    "from sklearn.linear_model import Lasso\n",
    "\n",
    "model = Lasso(alpha=0.1)\n",
    "model.fit(X_train, y_train)\n",
    "\n",
    "Elastic Net:\n",
    "\n",
    "    Description: Combines L1 and L2 regularization, balancing between Ridge and Lasso.\n",
    "    Usage: Useful when multiple features are correlated.\n",
    "\n",
    "from sklearn.linear_model import ElasticNet\n",
    "\n",
    "model = ElasticNet(alpha=0.1, l1_ratio=0.5)\n",
    "model.fit(X_train, y_train)\n",
    "\n",
    "Perceptron:\n",
    "\n",
    "    Description: A simple linear binary classifier.\n",
    "    Usage: Suitable for binary classification tasks.\n",
    "\n",
    "from sklearn.linear_model import Perceptron\n",
    "\n",
    "model = Perceptron()\n",
    "model.fit(X_train, y_train)\n",
    "\n",
    "\"\"\""
   ]
  },
  {
   "cell_type": "code",
   "execution_count": 38,
   "id": "dcb92211",
   "metadata": {},
   "outputs": [],
   "source": [
    "#18) What does model.fit() do? What arguments must be given?"
   ]
  },
  {
   "cell_type": "code",
   "execution_count": 39,
   "id": "dfb92a59",
   "metadata": {},
   "outputs": [
    {
     "data": {
      "text/plain": [
       "'\\nThe model.fit() method in Scikit-learn is used to train a machine learning model on a given dataset. It adjusts the model’s parameters based on the input data to minimize the error between the predicted and actual outcomes.\\nWhat model.fit() Does:\\n\\n    Training the Model:\\n        It uses the provided data to learn the relationship between the input features and the target variable.\\n        The model’s parameters are optimized to best fit the training data.\\n\\n    Adjusting Parameters:\\n        For linear models, this involves finding the best-fitting line or hyperplane.\\n        For other models, it involves optimizing the model’s internal parameters to minimize the loss function.\\n\\nRequired Arguments:\\n\\n    X (Features):\\n        A 2D array-like structure (e.g., NumPy array, Pandas DataFrame) containing the input features.\\n        Each row represents a sample, and each column represents a feature.\\n\\n    y (Target):\\n        A 1D array-like structure containing the target variable or labels.\\n        For regression, y contains continuous values; for classification, it contains class labels.\\n\\n'"
      ]
     },
     "execution_count": 39,
     "metadata": {},
     "output_type": "execute_result"
    }
   ],
   "source": [
    "\"\"\"\n",
    "The model.fit() method in Scikit-learn is used to train a machine learning model on a given dataset. It adjusts the model’s parameters based on the input data to minimize the error between the predicted and actual outcomes.\n",
    "What model.fit() Does:\n",
    "\n",
    "    Training the Model:\n",
    "        It uses the provided data to learn the relationship between the input features and the target variable.\n",
    "        The model’s parameters are optimized to best fit the training data.\n",
    "\n",
    "    Adjusting Parameters:\n",
    "        For linear models, this involves finding the best-fitting line or hyperplane.\n",
    "        For other models, it involves optimizing the model’s internal parameters to minimize the loss function.\n",
    "\n",
    "Required Arguments:\n",
    "\n",
    "    X (Features):\n",
    "        A 2D array-like structure (e.g., NumPy array, Pandas DataFrame) containing the input features.\n",
    "        Each row represents a sample, and each column represents a feature.\n",
    "\n",
    "    y (Target):\n",
    "        A 1D array-like structure containing the target variable or labels.\n",
    "        For regression, y contains continuous values; for classification, it contains class labels.\n",
    "\n",
    "\"\"\""
   ]
  },
  {
   "cell_type": "code",
   "execution_count": 40,
   "id": "3c59bf1a",
   "metadata": {},
   "outputs": [
    {
     "data": {
      "text/html": [
       "<style>#sk-container-id-1 {color: black;}#sk-container-id-1 pre{padding: 0;}#sk-container-id-1 div.sk-toggleable {background-color: white;}#sk-container-id-1 label.sk-toggleable__label {cursor: pointer;display: block;width: 100%;margin-bottom: 0;padding: 0.3em;box-sizing: border-box;text-align: center;}#sk-container-id-1 label.sk-toggleable__label-arrow:before {content: \"▸\";float: left;margin-right: 0.25em;color: #696969;}#sk-container-id-1 label.sk-toggleable__label-arrow:hover:before {color: black;}#sk-container-id-1 div.sk-estimator:hover label.sk-toggleable__label-arrow:before {color: black;}#sk-container-id-1 div.sk-toggleable__content {max-height: 0;max-width: 0;overflow: hidden;text-align: left;background-color: #f0f8ff;}#sk-container-id-1 div.sk-toggleable__content pre {margin: 0.2em;color: black;border-radius: 0.25em;background-color: #f0f8ff;}#sk-container-id-1 input.sk-toggleable__control:checked~div.sk-toggleable__content {max-height: 200px;max-width: 100%;overflow: auto;}#sk-container-id-1 input.sk-toggleable__control:checked~label.sk-toggleable__label-arrow:before {content: \"▾\";}#sk-container-id-1 div.sk-estimator input.sk-toggleable__control:checked~label.sk-toggleable__label {background-color: #d4ebff;}#sk-container-id-1 div.sk-label input.sk-toggleable__control:checked~label.sk-toggleable__label {background-color: #d4ebff;}#sk-container-id-1 input.sk-hidden--visually {border: 0;clip: rect(1px 1px 1px 1px);clip: rect(1px, 1px, 1px, 1px);height: 1px;margin: -1px;overflow: hidden;padding: 0;position: absolute;width: 1px;}#sk-container-id-1 div.sk-estimator {font-family: monospace;background-color: #f0f8ff;border: 1px dotted black;border-radius: 0.25em;box-sizing: border-box;margin-bottom: 0.5em;}#sk-container-id-1 div.sk-estimator:hover {background-color: #d4ebff;}#sk-container-id-1 div.sk-parallel-item::after {content: \"\";width: 100%;border-bottom: 1px solid gray;flex-grow: 1;}#sk-container-id-1 div.sk-label:hover label.sk-toggleable__label {background-color: #d4ebff;}#sk-container-id-1 div.sk-serial::before {content: \"\";position: absolute;border-left: 1px solid gray;box-sizing: border-box;top: 0;bottom: 0;left: 50%;z-index: 0;}#sk-container-id-1 div.sk-serial {display: flex;flex-direction: column;align-items: center;background-color: white;padding-right: 0.2em;padding-left: 0.2em;position: relative;}#sk-container-id-1 div.sk-item {position: relative;z-index: 1;}#sk-container-id-1 div.sk-parallel {display: flex;align-items: stretch;justify-content: center;background-color: white;position: relative;}#sk-container-id-1 div.sk-item::before, #sk-container-id-1 div.sk-parallel-item::before {content: \"\";position: absolute;border-left: 1px solid gray;box-sizing: border-box;top: 0;bottom: 0;left: 50%;z-index: -1;}#sk-container-id-1 div.sk-parallel-item {display: flex;flex-direction: column;z-index: 1;position: relative;background-color: white;}#sk-container-id-1 div.sk-parallel-item:first-child::after {align-self: flex-end;width: 50%;}#sk-container-id-1 div.sk-parallel-item:last-child::after {align-self: flex-start;width: 50%;}#sk-container-id-1 div.sk-parallel-item:only-child::after {width: 0;}#sk-container-id-1 div.sk-dashed-wrapped {border: 1px dashed gray;margin: 0 0.4em 0.5em 0.4em;box-sizing: border-box;padding-bottom: 0.4em;background-color: white;}#sk-container-id-1 div.sk-label label {font-family: monospace;font-weight: bold;display: inline-block;line-height: 1.2em;}#sk-container-id-1 div.sk-label-container {text-align: center;}#sk-container-id-1 div.sk-container {/* jupyter's `normalize.less` sets `[hidden] { display: none; }` but bootstrap.min.css set `[hidden] { display: none !important; }` so we also need the `!important` here to be able to override the default hidden behavior on the sphinx rendered scikit-learn.org. See: https://github.com/scikit-learn/scikit-learn/issues/21755 */display: inline-block !important;position: relative;}#sk-container-id-1 div.sk-text-repr-fallback {display: none;}</style><div id=\"sk-container-id-1\" class=\"sk-top-container\"><div class=\"sk-text-repr-fallback\"><pre>LinearRegression()</pre><b>In a Jupyter environment, please rerun this cell to show the HTML representation or trust the notebook. <br />On GitHub, the HTML representation is unable to render, please try loading this page with nbviewer.org.</b></div><div class=\"sk-container\" hidden><div class=\"sk-item\"><div class=\"sk-estimator sk-toggleable\"><input class=\"sk-toggleable__control sk-hidden--visually\" id=\"sk-estimator-id-1\" type=\"checkbox\" checked><label for=\"sk-estimator-id-1\" class=\"sk-toggleable__label sk-toggleable__label-arrow\">LinearRegression</label><div class=\"sk-toggleable__content\"><pre>LinearRegression()</pre></div></div></div></div></div>"
      ],
      "text/plain": [
       "LinearRegression()"
      ]
     },
     "execution_count": 40,
     "metadata": {},
     "output_type": "execute_result"
    }
   ],
   "source": [
    "from sklearn.linear_model import LinearRegression\n",
    "\n",
    "# Sample data\n",
    "X_train = [[1, 2], [3, 4], [5, 6]]\n",
    "y_train = [3, 7, 11]\n",
    "\n",
    "# Initialize and train the model\n",
    "model = LinearRegression()\n",
    "model.fit(X_train, y_train)\n"
   ]
  },
  {
   "cell_type": "code",
   "execution_count": 41,
   "id": "d4137792",
   "metadata": {},
   "outputs": [],
   "source": [
    "#19) What does model.predict() do? What arguments must be given?"
   ]
  },
  {
   "cell_type": "code",
   "execution_count": 42,
   "id": "b35c968f",
   "metadata": {},
   "outputs": [
    {
     "data": {
      "text/plain": [
       "'\\nThe model.predict() method in Scikit-learn is used to make predictions based on the input data using a trained machine learning model. \\nAfter a model has been trained with model.fit(), predict() applies the learned patterns to new data to generate predictions.\\nWhat model.predict() Does:\\n\\n    Generates Predictions:\\n        Uses the trained model to predict the target variable for new, unseen data.\\n        Applies the model’s learned parameters to the input features to produce output values.\\n\\n    Output:\\n        For regression models, it returns continuous values.\\n        For classification models, it returns class labels.\\n\\nRequired Argument:\\n\\n    X (Features):\\n        A 2D array-like structure (e.g., NumPy array, Pandas DataFrame) containing the input features for which predictions are to be made.\\n        Each row represents a sample, and each column represents a feature.\\n\\n'"
      ]
     },
     "execution_count": 42,
     "metadata": {},
     "output_type": "execute_result"
    }
   ],
   "source": [
    "\"\"\"\n",
    "The model.predict() method in Scikit-learn is used to make predictions based on the input data using a trained machine learning model. \n",
    "After a model has been trained with model.fit(), predict() applies the learned patterns to new data to generate predictions.\n",
    "What model.predict() Does:\n",
    "\n",
    "    Generates Predictions:\n",
    "        Uses the trained model to predict the target variable for new, unseen data.\n",
    "        Applies the model’s learned parameters to the input features to produce output values.\n",
    "\n",
    "    Output:\n",
    "        For regression models, it returns continuous values.\n",
    "        For classification models, it returns class labels.\n",
    "\n",
    "Required Argument:\n",
    "\n",
    "    X (Features):\n",
    "        A 2D array-like structure (e.g., NumPy array, Pandas DataFrame) containing the input features for which predictions are to be made.\n",
    "        Each row represents a sample, and each column represents a feature.\n",
    "\n",
    "\"\"\""
   ]
  },
  {
   "cell_type": "code",
   "execution_count": 43,
   "id": "d642a8ef",
   "metadata": {},
   "outputs": [
    {
     "name": "stdout",
     "output_type": "stream",
     "text": [
      "[5. 9.]\n"
     ]
    }
   ],
   "source": [
    "from sklearn.linear_model import LinearRegression\n",
    "\n",
    "# Sample data\n",
    "X_train = [[1, 2], [3, 4], [5, 6]]\n",
    "y_train = [3, 7, 11]\n",
    "\n",
    "# Initialize and train the model\n",
    "model = LinearRegression()\n",
    "model.fit(X_train, y_train)\n",
    "\n",
    "# New data for prediction\n",
    "X_test = [[2, 3], [4, 5]]\n",
    "\n",
    "# Make predictions\n",
    "predictions = model.predict(X_test)\n",
    "print(predictions)\n"
   ]
  },
  {
   "cell_type": "code",
   "execution_count": 44,
   "id": "63455a8f",
   "metadata": {},
   "outputs": [],
   "source": [
    "#Q21) What is feature scaling? How does it help in Machine Learning?"
   ]
  },
  {
   "cell_type": "code",
   "execution_count": 45,
   "id": "1016cee1",
   "metadata": {},
   "outputs": [
    {
     "data": {
      "text/plain": [
       "'\\nMin-Max Scaling (Normalization):\\n\\n    Description: Scales the data to a fixed range, usually [0, 1].\\n   \\n\\n    Result: Features are scaled to a specified range.\\n\\nMaxAbs Scaling:\\n\\n    Description: Scales each feature by its maximum absolute value.\\n    Result: Features are in the range [-1, 1].\\n\\nRobust Scaling:\\n\\n    Description: Uses the median and interquartile range for scaling, making it robust to outliers.\\n    Result: Features are scaled based on percentiles.\\n\\n\\n'"
      ]
     },
     "execution_count": 45,
     "metadata": {},
     "output_type": "execute_result"
    }
   ],
   "source": [
    "\"\"\"\n",
    "Feature scaling is a preprocessing technique used to standardize the range of independent variables or features in a dataset. \n",
    "It ensures that each feature contributes equally to the distance calculations and model training, \n",
    "which is crucial for many machine learning algorithms.\n",
    "\"\"\"\n",
    "\"\"\"\n",
    "Standardization (Z-score Normalization):\n",
    "\n",
    "    Description: Centers the data by subtracting the mean and scales it by dividing by the standard deviation.\n",
    "\"\"\"\n",
    "\"\"\"\n",
    "Min-Max Scaling (Normalization):\n",
    "\n",
    "    Description: Scales the data to a fixed range, usually [0, 1].\n",
    "   \n",
    "\n",
    "    Result: Features are scaled to a specified range.\n",
    "\n",
    "MaxAbs Scaling:\n",
    "\n",
    "    Description: Scales each feature by its maximum absolute value.\n",
    "    Result: Features are in the range [-1, 1].\n",
    "\n",
    "Robust Scaling:\n",
    "\n",
    "    Description: Uses the median and interquartile range for scaling, making it robust to outliers.\n",
    "    Result: Features are scaled based on percentiles.\n",
    "\n",
    "\n",
    "\"\"\""
   ]
  },
  {
   "cell_type": "code",
   "execution_count": 46,
   "id": "8111f52f",
   "metadata": {},
   "outputs": [
    {
     "data": {
      "text/plain": [
       "'\\n\\n\\n    Improves Convergence:\\n        Algorithms like gradient descent converge faster with scaled features, as they ensure a more uniform scale.\\n\\n    Enhances Model Performance:\\n        Models sensitive to feature magnitudes, such as SVMs and k-NN, perform better with scaled data.\\n\\n    Prevents Dominance:\\n        Prevents features with larger ranges from dominating the model’s learning process.\\n\\n    Improves Interpretability:\\n        Scaled features make it easier to compare the importance of different features.\\n\\n    Reduces Bias:\\n        Ensures that the model treats all features equally, reducing bias towards features with larger scales.\\n\\n'"
      ]
     },
     "execution_count": 46,
     "metadata": {},
     "output_type": "execute_result"
    }
   ],
   "source": [
    "\"\"\"\n",
    "\n",
    "\n",
    "    Improves Convergence:\n",
    "        Algorithms like gradient descent converge faster with scaled features, as they ensure a more uniform scale.\n",
    "\n",
    "    Enhances Model Performance:\n",
    "        Models sensitive to feature magnitudes, such as SVMs and k-NN, perform better with scaled data.\n",
    "\n",
    "    Prevents Dominance:\n",
    "        Prevents features with larger ranges from dominating the model’s learning process.\n",
    "\n",
    "    Improves Interpretability:\n",
    "        Scaled features make it easier to compare the importance of different features.\n",
    "\n",
    "    Reduces Bias:\n",
    "        Ensures that the model treats all features equally, reducing bias towards features with larger scales.\n",
    "\n",
    "\"\"\""
   ]
  },
  {
   "cell_type": "code",
   "execution_count": 47,
   "id": "16c2cd57",
   "metadata": {},
   "outputs": [],
   "source": [
    "#Q22) How do we perform scaling in Python?"
   ]
  },
  {
   "cell_type": "code",
   "execution_count": 48,
   "id": "4997d9ea",
   "metadata": {},
   "outputs": [
    {
     "name": "stdout",
     "output_type": "stream",
     "text": [
      "[[-1.22474487 -1.22474487]\n",
      " [ 0.          0.        ]\n",
      " [ 1.22474487  1.22474487]]\n"
     ]
    }
   ],
   "source": [
    "\"\"\"\n",
    "Standardization (Z-score Normalization)\n",
    "\n",
    "    StandardScaler: Centers the data by subtracting the mean and scales it by dividing by the standard deviation.\n",
    "\n",
    "\"\"\"\n",
    "from sklearn.preprocessing import StandardScaler\n",
    "\n",
    "# Sample data\n",
    "X = [[1, 2], [3, 4], [5, 6]]\n",
    "\n",
    "# Initialize the scaler\n",
    "scaler = StandardScaler()\n",
    "\n",
    "# Fit and transform the data\n",
    "X_scaled = scaler.fit_transform(X)\n",
    "print(X_scaled)\n"
   ]
  },
  {
   "cell_type": "code",
   "execution_count": 49,
   "id": "52184b6f",
   "metadata": {},
   "outputs": [
    {
     "name": "stdout",
     "output_type": "stream",
     "text": [
      "[[0.  0. ]\n",
      " [0.5 0.5]\n",
      " [1.  1. ]]\n"
     ]
    }
   ],
   "source": [
    "\"\"\"\n",
    "Min-Max Scaling (Normalization)\n",
    "\n",
    "    MinMaxScaler: Scales the data to a fixed range, usually [0, 1].\n",
    "\n",
    "\"\"\"\n",
    "from sklearn.preprocessing import MinMaxScaler\n",
    "\n",
    "# Sample data\n",
    "X = [[1, 2], [3, 4], [5, 6]]\n",
    "\n",
    "# Initialize the scaler\n",
    "scaler = MinMaxScaler()\n",
    "\n",
    "# Fit and transform the data\n",
    "X_scaled = scaler.fit_transform(X)\n",
    "print(X_scaled)\n"
   ]
  },
  {
   "cell_type": "code",
   "execution_count": 50,
   "id": "cbf30b73",
   "metadata": {},
   "outputs": [
    {
     "name": "stdout",
     "output_type": "stream",
     "text": [
      "[[ 0.2        -0.33333333]\n",
      " [ 0.6        -0.66666667]\n",
      " [ 1.         -1.        ]]\n"
     ]
    }
   ],
   "source": [
    "\"\"\"\n",
    "MaxAbs Scaling\n",
    "\n",
    "    MaxAbsScaler: Scales each feature by its maximum absolute value.\n",
    "\n",
    "\"\"\"\n",
    "from sklearn.preprocessing import MaxAbsScaler\n",
    "\n",
    "# Sample data\n",
    "X = [[1, -2], [3, -4], [5, -6]]\n",
    "\n",
    "# Initialize the scaler\n",
    "scaler = MaxAbsScaler()\n",
    "\n",
    "# Fit and transform the data\n",
    "X_scaled = scaler.fit_transform(X)\n",
    "print(X_scaled)\n"
   ]
  },
  {
   "cell_type": "code",
   "execution_count": 51,
   "id": "3df8814a",
   "metadata": {},
   "outputs": [
    {
     "name": "stdout",
     "output_type": "stream",
     "text": [
      "[[-1. -1.]\n",
      " [ 0.  0.]\n",
      " [ 1.  1.]]\n"
     ]
    }
   ],
   "source": [
    "\"\"\"\n",
    "Robust Scaling\n",
    "\n",
    "    RobustScaler: Uses the median and interquartile range for scaling, making it robust to outliers.\n",
    "\n",
    "\"\"\"\n",
    "from sklearn.preprocessing import RobustScaler\n",
    "\n",
    "# Sample data\n",
    "X = [[1, 2], [3, 4], [5, 6]]\n",
    "\n",
    "# Initialize the scaler\n",
    "scaler = RobustScaler()\n",
    "\n",
    "# Fit and transform the data\n",
    "X_scaled = scaler.fit_transform(X)\n",
    "print(X_scaled)\n"
   ]
  },
  {
   "cell_type": "code",
   "execution_count": 52,
   "id": "5b21f3b5",
   "metadata": {},
   "outputs": [],
   "source": [
    "#Q25) Explain data encoding?"
   ]
  },
  {
   "cell_type": "code",
   "execution_count": 53,
   "id": "8bd234f8",
   "metadata": {
    "scrolled": true
   },
   "outputs": [
    {
     "data": {
      "text/plain": [
       "'\\nLabel Encoding:\\n\\n    Description: Converts each category into a unique integer.\\n    Use Case: Suitable for ordinal variables where the order matters.\\n    Limitation: Can mislead models into thinking there’s a numerical relationship between categories.\\n\\n'"
      ]
     },
     "execution_count": 53,
     "metadata": {},
     "output_type": "execute_result"
    }
   ],
   "source": [
    "\"\"\"\n",
    "Data encoding is the process of converting categorical data into a numerical format that can be used by machine learning algorithms.\n",
    "\"\"\"\n",
    "\"\"\"\n",
    "Label Encoding:\n",
    "\n",
    "    Description: Converts each category into a unique integer.\n",
    "    Use Case: Suitable for ordinal variables where the order matters.\n",
    "    Limitation: Can mislead models into thinking there’s a numerical relationship between categories.\n",
    "\n",
    "\"\"\"\n",
    "#from sklearn.preprocessing import LabelEncoder\n",
    "\n",
    "#le = LabelEncoder()\n",
    "#data['category'] = le.fit_transform(data['category'])\n"
   ]
  },
  {
   "cell_type": "code",
   "execution_count": 54,
   "id": "d0b40c19",
   "metadata": {},
   "outputs": [
    {
     "data": {
      "text/plain": [
       "'\\nOne-Hot Encoding:\\n\\n    Description: Converts categories into binary vectors. Each category becomes a new column with 0s and 1s indicating presence.\\n    Use Case: Suitable for nominal variables where no order exists.\\n    Limitation: Can lead to high dimensionality with many categories.\\n\\n'"
      ]
     },
     "execution_count": 54,
     "metadata": {},
     "output_type": "execute_result"
    }
   ],
   "source": [
    "\"\"\"\n",
    "One-Hot Encoding:\n",
    "\n",
    "    Description: Converts categories into binary vectors. Each category becomes a new column with 0s and 1s indicating presence.\n",
    "    Use Case: Suitable for nominal variables where no order exists.\n",
    "    Limitation: Can lead to high dimensionality with many categories.\n",
    "\n",
    "\"\"\"\n",
    "#import pandas as pd\n",
    "#data = pd.get_dummies(data, columns=['category'])\n"
   ]
  },
  {
   "cell_type": "code",
   "execution_count": 55,
   "id": "34eb74df",
   "metadata": {},
   "outputs": [
    {
     "data": {
      "text/plain": [
       "'\\nBinary Encoding:\\n\\n    Description: Combines label encoding and one-hot encoding. Converts categories to binary and splits digits into columns.\\n    Use Case: Useful for reducing dimensionality compared to one-hot encoding.\\n\\n'"
      ]
     },
     "execution_count": 55,
     "metadata": {},
     "output_type": "execute_result"
    }
   ],
   "source": [
    "\"\"\"\n",
    "Binary Encoding:\n",
    "\n",
    "    Description: Combines label encoding and one-hot encoding. Converts categories to binary and splits digits into columns.\n",
    "    Use Case: Useful for reducing dimensionality compared to one-hot encoding.\n",
    "\n",
    "\"\"\"\n",
    "#from category_encoders import BinaryEncoder\n",
    "\n",
    "#encoder = BinaryEncoder(cols=['category'])\n",
    "#data = encoder.fit_transform(data)\n"
   ]
  },
  {
   "cell_type": "code",
   "execution_count": 56,
   "id": "5fbebad2",
   "metadata": {},
   "outputs": [
    {
     "data": {
      "text/plain": [
       "'\\nTarget Encoding:\\n\\n    Description: Replaces categories with the mean of the target variable for each category.\\n    Use Case: Useful for high-cardinality categorical variables.\\n    Limitation: Can lead to overfitting if not handled carefully.\\n\\n'"
      ]
     },
     "execution_count": 56,
     "metadata": {},
     "output_type": "execute_result"
    }
   ],
   "source": [
    "\"\"\"\n",
    "Target Encoding:\n",
    "\n",
    "    Description: Replaces categories with the mean of the target variable for each category.\n",
    "    Use Case: Useful for high-cardinality categorical variables.\n",
    "    Limitation: Can lead to overfitting if not handled carefully.\n",
    "\n",
    "\"\"\"\n",
    "#data['category_encoded'] = data.groupby('category')['target'].transform('mean')\n"
   ]
  },
  {
   "cell_type": "code",
   "execution_count": 57,
   "id": "ca5feb20",
   "metadata": {},
   "outputs": [
    {
     "data": {
      "text/plain": [
       "'\\n\\nFrequency Encoding:\\n\\n    Description: Replaces categories with their frequency in the dataset.\\n    Use Case: Useful for capturing the importance of categories based on their occurrence.\\n\\n'"
      ]
     },
     "execution_count": 57,
     "metadata": {},
     "output_type": "execute_result"
    }
   ],
   "source": [
    "\"\"\"\n",
    "\n",
    "Frequency Encoding:\n",
    "\n",
    "    Description: Replaces categories with their frequency in the dataset.\n",
    "    Use Case: Useful for capturing the importance of categories based on their occurrence.\n",
    "\n",
    "\"\"\"\n",
    "#data['category_encoded'] = data['category'].map(data['category'].value_counts())\n"
   ]
  },
  {
   "cell_type": "code",
   "execution_count": 58,
   "id": "2eb07bc3",
   "metadata": {},
   "outputs": [
    {
     "data": {
      "text/plain": [
       "'\\n\\n    Model Compatibility: Ensures that categorical data can be used with algorithms that require numerical input.\\n    Improves Model Performance: Proper encoding can lead to better model accuracy and efficiency.\\n    Handles Categorical Data: Allows models to learn from categorical features effectively.\\n\\n'"
      ]
     },
     "execution_count": 58,
     "metadata": {},
     "output_type": "execute_result"
    }
   ],
   "source": [
    "\"\"\"\n",
    "\n",
    "    Model Compatibility: Ensures that categorical data can be used with algorithms that require numerical input.\n",
    "    Improves Model Performance: Proper encoding can lead to better model accuracy and efficiency.\n",
    "    Handles Categorical Data: Allows models to learn from categorical features effectively.\n",
    "\n",
    "\"\"\""
   ]
  },
  {
   "cell_type": "code",
   "execution_count": null,
   "id": "6e25f5b1",
   "metadata": {},
   "outputs": [],
   "source": []
  }
 ],
 "metadata": {
  "kernelspec": {
   "display_name": "Python 3 (ipykernel)",
   "language": "python",
   "name": "python3"
  },
  "language_info": {
   "codemirror_mode": {
    "name": "ipython",
    "version": 3
   },
   "file_extension": ".py",
   "mimetype": "text/x-python",
   "name": "python",
   "nbconvert_exporter": "python",
   "pygments_lexer": "ipython3",
   "version": "3.11.5"
  }
 },
 "nbformat": 4,
 "nbformat_minor": 5
}
